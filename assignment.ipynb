{
 "cells": [
  {
   "cell_type": "markdown",
   "metadata": {},
   "source": [
    "<h1>Natural Language Processing Assignment</h1>\n",
    "<h2>Part A: Sentiment Analysis</h2>"
   ]
  },
  {
   "cell_type": "markdown",
   "metadata": {},
   "source": [
    "<h3>Import Required Packages</h3>"
   ]
  },
  {
   "cell_type": "code",
   "execution_count": 2,
   "metadata": {},
   "outputs": [
    {
     "name": "stderr",
     "output_type": "stream",
     "text": [
      "[nltk_data] Downloading package punkt to\n",
      "[nltk_data]     /Users/leechilvers/nltk_data...\n",
      "[nltk_data]   Package punkt is already up-to-date!\n",
      "[nltk_data] Downloading package wordnet to\n",
      "[nltk_data]     /Users/leechilvers/nltk_data...\n",
      "[nltk_data]   Package wordnet is already up-to-date!\n",
      "[nltk_data] Downloading package stopwords to\n",
      "[nltk_data]     /Users/leechilvers/nltk_data...\n",
      "[nltk_data]   Package stopwords is already up-to-date!\n"
     ]
    }
   ],
   "source": [
    "import os\n",
    "import re\n",
    "from sklearn.model_selection import train_test_split\n",
    "import nltk\n",
    "from sklearn.naive_bayes import MultinomialNB\n",
    "from sklearn.metrics import accuracy_score\n",
    "nltk.download('punkt')\n",
    "nltk.download('wordnet')\n",
    "nltk.download('stopwords')\n",
    "\n",
    "# my classes\n",
    "from preprocessor import MyPreprocessor\n",
    "from feature_generator import NormTech\n",
    "from feature_generator import MyFeatureGenerator\n",
    "from naive_bayes import MyNaiveBayesClassifier"
   ]
  },
  {
   "cell_type": "markdown",
   "metadata": {},
   "source": [
    "<h3>Read in the Review Data</h3>"
   ]
  },
  {
   "cell_type": "code",
   "execution_count": 3,
   "metadata": {},
   "outputs": [],
   "source": [
    "# Get the positive and negative reviews\n",
    "def get_reviews_in(path):\n",
    "    review_file_pattern = re.compile('\\d+_\\d+.txt')\n",
    "    files = os.listdir(path)\n",
    "    # get the review file names\n",
    "    review_files = [file for file in files if review_file_pattern.match(file)] \n",
    "    # get the content of each review file\n",
    "    reviews = []\n",
    "    for review_file in review_files:\n",
    "        review_file_path = os.path.join(path, review_file)\n",
    "        with open(review_file_path, 'r') as content:\n",
    "            reviews.append(content.read())\n",
    "\n",
    "    return reviews\n",
    "\n",
    "# x data\n",
    "pos_reviews = get_reviews_in('film_reviews/pos')\n",
    "neg_reviews = get_reviews_in('film_reviews/neg')\n",
    "reviews = pos_reviews + neg_reviews\n",
    "\n",
    "# y data\n",
    "pos_labels = [0] * len(pos_reviews)\n",
    "neg_labels = [1] * len(neg_reviews)\n",
    "labels = pos_labels + neg_labels"
   ]
  },
  {
   "cell_type": "markdown",
   "metadata": {},
   "source": [
    "<h3>Split the Reviews into Train, Dev and Test Sets</h3>"
   ]
  },
  {
   "cell_type": "code",
   "execution_count": 4,
   "metadata": {},
   "outputs": [],
   "source": [
    "# split the data into train/dev/test splits\n",
    "# 80% train and 20% test\n",
    "x_train, x_test, y_train, y_test = train_test_split(reviews, labels, test_size=0.2, random_state=42)\n",
    "# split test into 50% dev and 50% test\n",
    "x_dev, x_test, y_dev, y_test = train_test_split(x_test, y_test, test_size=0.5, random_state=42)"
   ]
  },
  {
   "cell_type": "markdown",
   "metadata": {},
   "source": [
    "<h3>Preprocess Data and Generate Features</h3>"
   ]
  },
  {
   "cell_type": "code",
   "execution_count": 9,
   "metadata": {},
   "outputs": [],
   "source": [
    "# lemmatisation, lowercase, stopwords removed, punctuation NOT removed, unigrams\n",
    "preprocessor = MyPreprocessor()\n",
    "train_revs = preprocessor.preprocess(x_train, n_gram_len=1)\n",
    "dev_revs = preprocessor.preprocess(x_dev, n_gram_len=1)\n",
    "\n",
    "# frequency normalisation\n",
    "feature_generator = MyFeatureGenerator(preprocessor.vocab)\n",
    "train_set_1_A = feature_generator.generate_features(train_revs, NormTech.FREQ_NORM)\n",
    "dev_set_1_A = feature_generator.generate_features(dev_revs, NormTech.FREQ_NORM)"
   ]
  },
  {
   "cell_type": "code",
   "execution_count": null,
   "metadata": {},
   "outputs": [],
   "source": [
    "# ..., bigrams\n",
    "preprocessor = MyPreprocessor()\n",
    "train_revs = preprocessor.preprocess(x_train, n_gram_len=2)\n",
    "dev_revs = preprocessor.preprocess(x_dev, n_gram_len=2)\n",
    "\n",
    "# frequency normalisation\n",
    "feature_generator = MyFeatureGenerator(preprocessor.vocab)\n",
    "train_set_2_A = feature_generator.generate_features(train_revs, NormTech.FREQ_NORM)\n",
    "dev_set_2_A = feature_generator.generate_features(dev_revs, NormTech.FREQ_NORM)"
   ]
  },
  {
   "cell_type": "code",
   "execution_count": null,
   "metadata": {},
   "outputs": [],
   "source": [
    "# ..., trigrams\n",
    "preprocessor = MyPreprocessor()\n",
    "train_revs = preprocessor.preprocess(x_train, n_gram_len=3)\n",
    "dev_revs = preprocessor.preprocess(x_dev, n_gram_len=3)\n",
    "\n",
    "# frequency normalisation\n",
    "feature_generator = MyFeatureGenerator(preprocessor.vocab)\n",
    "train_set_3_A = feature_generator.generate_features(train_revs, NormTech.FREQ_NORM)\n",
    "dev_set_3_A = feature_generator.generate_features(dev_revs, NormTech.FREQ_NORM)"
   ]
  },
  {
   "cell_type": "code",
   "execution_count": 7,
   "metadata": {},
   "outputs": [
    {
     "data": {
      "text/plain": [
       "0.7875"
      ]
     },
     "execution_count": 7,
     "metadata": {},
     "output_type": "execute_result"
    }
   ],
   "source": [
    "my_clf = MyNaiveBayesClassifier()\n",
    "\n",
    "my_clf.fit(train_set_1_B, y_train)\n",
    "my_predictions = my_clf.predict(dev_set_1_B)\n",
    "accuracy_score(y_dev, my_predictions)"
   ]
  },
  {
   "cell_type": "code",
   "execution_count": 8,
   "metadata": {},
   "outputs": [
    {
     "data": {
      "text/plain": [
       "0.63"
      ]
     },
     "execution_count": 8,
     "metadata": {},
     "output_type": "execute_result"
    }
   ],
   "source": [
    "clf = MultinomialNB()\n",
    "clf.fit(train_set_1, y_train)\n",
    "predictions = clf.predict(dev_set_1)\n",
    "accuracy_score(y_dev, predictions)"
   ]
  },
  {
   "cell_type": "code",
   "execution_count": null,
   "metadata": {},
   "outputs": [],
   "source": []
  }
 ],
 "metadata": {
  "kernelspec": {
   "display_name": "Python 3",
   "language": "python",
   "name": "python3"
  },
  "language_info": {
   "codemirror_mode": {
    "name": "ipython",
    "version": 3
   },
   "file_extension": ".py",
   "mimetype": "text/x-python",
   "name": "python",
   "nbconvert_exporter": "python",
   "pygments_lexer": "ipython3",
   "version": "3.8.3"
  }
 },
 "nbformat": 4,
 "nbformat_minor": 2
}
